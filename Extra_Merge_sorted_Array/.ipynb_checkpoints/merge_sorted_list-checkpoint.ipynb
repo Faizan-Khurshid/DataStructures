{
 "cells": [
  {
   "cell_type": "code",
   "execution_count": 14,
   "metadata": {},
   "outputs": [],
   "source": [
    "# [0,3,6,8,12] [1,3,4,7]\n",
    "def merge_sorted_list(list1, list2):\n",
    "    big_list = list1.copy()\n",
    "    small_list = list2.copy()\n",
    "    sorted_list = []\n",
    "    while(len(big_list) and len(small_list)):\n",
    "        if big_list[-1] >= small_list[-1]:\n",
    "            element = big_list.pop()\n",
    "            sorted_list.append(element)\n",
    "        else:\n",
    "            element = small_list.pop()\n",
    "            sorted_list.append(element)\n",
    "        \n",
    "    return small_list + big_list + sorted_list[::-1]"
   ]
  },
  {
   "cell_type": "code",
   "execution_count": 15,
   "metadata": {},
   "outputs": [
    {
     "data": {
      "text/plain": [
       "[0, 1, 3, 3, 4, 6, 7, 8, 12]"
      ]
     },
     "execution_count": 15,
     "metadata": {},
     "output_type": "execute_result"
    }
   ],
   "source": [
    "merge_sorted_list([0,3,6,8,12], [1,3,4,7])"
   ]
  },
  {
   "cell_type": "code",
   "execution_count": null,
   "metadata": {},
   "outputs": [],
   "source": []
  }
 ],
 "metadata": {
  "kernelspec": {
   "display_name": "Python 3",
   "language": "python",
   "name": "python3"
  },
  "language_info": {
   "codemirror_mode": {
    "name": "ipython",
    "version": 3
   },
   "file_extension": ".py",
   "mimetype": "text/x-python",
   "name": "python",
   "nbconvert_exporter": "python",
   "pygments_lexer": "ipython3",
   "version": "3.7.1"
  }
 },
 "nbformat": 4,
 "nbformat_minor": 2
}
